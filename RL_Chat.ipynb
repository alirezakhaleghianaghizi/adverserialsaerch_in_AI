{
  "cells": [
    {
      "cell_type": "markdown",
      "metadata": {
        "id": "view-in-github",
        "colab_type": "text"
      },
      "source": [
        "<a href=\"https://colab.research.google.com/github/alirezakhaleghianaghizi/adverserialsaerch_in_AI/blob/master/RL_Chat.ipynb\" target=\"_parent\"><img src=\"https://colab.research.google.com/assets/colab-badge.svg\" alt=\"Open In Colab\"/></a>"
      ]
    },
    {
      "cell_type": "markdown",
      "metadata": {
        "id": "sWZ3HloS1Ok-"
      },
      "source": [
        "<img src='http://www-scf.usc.edu/~ghasemig/images/sharif.png' alt=\"SUT logo\" width=300 height=300 align=left class=\"saturate\" >\n",
        "\n",
        "<br>\n",
        "<font>\n",
        "<div dir=ltr align=center>\n",
        "<font color=0F5298 size=7>\n",
        "    Artificial Intelligence <br>\n",
        "<font color=2565AE size=5>\n",
        "    Computer Engineering Department <br>\n",
        "    Spring 2023<br>\n",
        "<font color=3C99D size=5>\n",
        "    Practical Assignment 3 - Reinforcement Learning <br>\n",
        "<font color=696880 size=4>\n",
        "    Mohammad Moshtaghi - Ali Salesi - Hossein Goli\n",
        "\n",
        "____"
      ]
    },
    {
      "cell_type": "markdown",
      "metadata": {
        "id": "ejfGdour1cNK"
      },
      "source": [
        "# Personal Data"
      ]
    },
    {
      "cell_type": "code",
      "execution_count": 1,
      "metadata": {
        "id": "IM62bqV51dy2"
      },
      "outputs": [],
      "source": [
        "# Set your student number\n",
        "student_number = '99101462'\n",
        "first_name = 'alireza'\n",
        "last_name = 'khaleghi'"
      ]
    },
    {
      "cell_type": "markdown",
      "metadata": {
        "id": "l3KLkyuZo0tR"
      },
      "source": [
        "# Rules\n",
        "- Make sure that all of your cells can be run perfectly. "
      ]
    },
    {
      "cell_type": "markdown",
      "metadata": {
        "id": "z91za1kfo7uB"
      },
      "source": [
        "# Q2: Sentence Generator (100 Points)"
      ]
    },
    {
      "cell_type": "markdown",
      "metadata": {
        "id": "ki7JqWK_oSNs"
      },
      "source": [
        "<font size=4>\n",
        "Author: Ali Salesi\n",
        "<br/>\n",
        "<font color=red>\n",
        "Please run all the cells.\n",
        "</font>\n",
        "</font>\n",
        "<br/>\n",
        "</div>"
      ]
    },
    {
      "cell_type": "markdown",
      "metadata": {
        "id": "R2vBT4rxeHnM"
      },
      "source": [
        "In this assignment we implement a text generator using RL."
      ]
    },
    {
      "cell_type": "markdown",
      "metadata": {
        "id": "gQRBpSNJ2ICr"
      },
      "source": [
        "## Preprocess"
      ]
    },
    {
      "cell_type": "markdown",
      "metadata": {
        "id": "KDg8VW5k3A4Z"
      },
      "source": [
        "### Dataset"
      ]
    },
    {
      "cell_type": "markdown",
      "metadata": {
        "id": "ylFoOb7GIRI3"
      },
      "source": [
        "First, lets download the text corpus crawled from `VOA Persian` from 2003 to 2008."
      ]
    },
    {
      "cell_type": "code",
      "execution_count": 2,
      "metadata": {
        "colab": {
          "base_uri": "https://localhost:8080/"
        },
        "id": "mxG1ZP8Gqk2_",
        "outputId": "fe781b35-8487-46e5-f7b9-fc956e9bb669"
      },
      "outputs": [
        {
          "output_type": "stream",
          "name": "stdout",
          "text": [
            "--2023-04-28 09:47:38--  https://storage.googleapis.com/danielk-files/farsi-text/merged_files/voa_persian_2003_2008_cleaned.txt\n",
            "Resolving storage.googleapis.com (storage.googleapis.com)... 142.251.16.128, 172.253.62.128, 172.253.115.128, ...\n",
            "Connecting to storage.googleapis.com (storage.googleapis.com)|142.251.16.128|:443... connected.\n",
            "HTTP request sent, awaiting response... 200 OK\n",
            "Length: 69708061 (66M) [text/plain]\n",
            "Saving to: ‘voa_persian.txt’\n",
            "\n",
            "voa_persian.txt     100%[===================>]  66.48M  76.0MB/s    in 0.9s    \n",
            "\n",
            "2023-04-28 09:47:39 (76.0 MB/s) - ‘voa_persian.txt’ saved [69708061/69708061]\n",
            "\n"
          ]
        }
      ],
      "source": [
        "!wget -O \"voa_persian.txt\" \"https://storage.googleapis.com/danielk-files/farsi-text/merged_files/voa_persian_2003_2008_cleaned.txt\""
      ]
    },
    {
      "cell_type": "code",
      "execution_count": 3,
      "metadata": {
        "colab": {
          "base_uri": "https://localhost:8080/"
        },
        "id": "Mzh2UPwisjTG",
        "outputId": "5820269d-0a3b-4dcb-aa3f-1d2194db00a1"
      },
      "outputs": [
        {
          "output_type": "stream",
          "name": "stdout",
          "text": [
            "488253\n"
          ]
        }
      ],
      "source": [
        "!wc -l voa_persian.txt | awk '{print $1}'"
      ]
    },
    {
      "cell_type": "markdown",
      "source": [],
      "metadata": {
        "id": "9MQGhw56n-kC"
      }
    },
    {
      "cell_type": "code",
      "execution_count": 4,
      "metadata": {
        "colab": {
          "base_uri": "https://localhost:8080/"
        },
        "id": "xDKxtmaAqvjB",
        "outputId": "e0bb83a0-4a0b-4aaa-da5c-7aae09e12cdc"
      },
      "outputs": [
        {
          "output_type": "stream",
          "name": "stdout",
          "text": [
            "پيمان صلح بين ژاپن و روسيه\n",
            "بنا به گزارشهای منتشره در توکيو، ژاپن و روسيه در زمينه يک پيمان صلح در چارچوبی گسترده توافق کرده اند که رسماً به مخاصمات جنگ دوم جهانی ميان دو کشور پايان خواهند داد.\n",
            "\n",
            "در يکی از اين گزارشها، که از سوی خبرگزاری کيودُو،انتشار يافته، گفته شده است که دو کشور برای رفع اختلافات ديرين خود بر سر چهار جزيره از جزاير زنجيره ای کوريل، بر اساس سه پيمان گذشته خود عمل خواهند کرد.\n",
            "بموجب يکی از اين پيمانها که در سال ۱۹۵۶ امضاء شده، دو تا از اين جزيره ها پس از امضاء يک پيمان صلح به ژاپن پس داده خواهد شد.\n",
            "اما بموجب پيمانی که در سال ۱۹۹۳ به امضاء رسيده، مسئله حاکميت اين چهار جزيره بايستی پيش از امضاء پيمان صلح فيصله يابد.\n",
            "هيچ يک از دو طرف نحوه استفاده از پيمان های پيشين را اعلام نکرده اند.\n",
            "\n",
            "تشکيلات فلسطينی نخستين بودجه رسمی خود را اعلام کرد\n",
            "تشکيلات فلسطينی پس از دو سال نخستين بودجه رسمی خود را اعلام کرد و قول داد برای از ميان برداشتن فساد و پاسخگوئی بيشتر به مردم تلاش کند.\n"
          ]
        }
      ],
      "source": [
        "!head voa_persian.txt"
      ]
    },
    {
      "cell_type": "markdown",
      "metadata": {
        "id": "cj9v5jUm2691"
      },
      "source": [
        "### Normalization"
      ]
    },
    {
      "cell_type": "markdown",
      "metadata": {
        "id": "Zx5YwlZar85k"
      },
      "source": [
        "Then we have to normalize and lemmatize the text so we can have a better generalization of semantics in prompt generation.\n",
        "\n",
        "We'll use `hazm` library for this purpose."
      ]
    },
    {
      "cell_type": "code",
      "execution_count": 5,
      "metadata": {
        "colab": {
          "base_uri": "https://localhost:8080/"
        },
        "id": "YWwihzn7rzAC",
        "outputId": "9e4ab73b-a646-4b8c-9f0d-6702f5d1b7cb"
      },
      "outputs": [
        {
          "output_type": "stream",
          "name": "stdout",
          "text": [
            "Looking in indexes: https://pypi.org/simple, https://us-python.pkg.dev/colab-wheels/public/simple/\n",
            "Collecting hazm\n",
            "  Downloading hazm-0.7.0-py3-none-any.whl (316 kB)\n",
            "\u001b[2K     \u001b[90m━━━━━━━━━━━━━━━━━━━━━━━━━━━━━━━━━━━━━━\u001b[0m \u001b[32m316.7/316.7 kB\u001b[0m \u001b[31m21.5 MB/s\u001b[0m eta \u001b[36m0:00:00\u001b[0m\n",
            "\u001b[?25hCollecting libwapiti>=0.2.1\n",
            "  Downloading libwapiti-0.2.1.tar.gz (233 kB)\n",
            "\u001b[2K     \u001b[90m━━━━━━━━━━━━━━━━━━━━━━━━━━━━━━━━━━━━━━\u001b[0m \u001b[32m233.6/233.6 kB\u001b[0m \u001b[31m27.4 MB/s\u001b[0m eta \u001b[36m0:00:00\u001b[0m\n",
            "\u001b[?25h  Preparing metadata (setup.py) ... \u001b[?25l\u001b[?25hdone\n",
            "Collecting nltk==3.3\n",
            "  Downloading nltk-3.3.0.zip (1.4 MB)\n",
            "\u001b[2K     \u001b[90m━━━━━━━━━━━━━━━━━━━━━━━━━━━━━━━━━━━━━━━━\u001b[0m \u001b[32m1.4/1.4 MB\u001b[0m \u001b[31m55.6 MB/s\u001b[0m eta \u001b[36m0:00:00\u001b[0m\n",
            "\u001b[?25h  Preparing metadata (setup.py) ... \u001b[?25l\u001b[?25hdone\n",
            "Requirement already satisfied: six in /usr/local/lib/python3.10/dist-packages (from nltk==3.3->hazm) (1.16.0)\n",
            "Building wheels for collected packages: nltk, libwapiti\n",
            "  Building wheel for nltk (setup.py) ... \u001b[?25l\u001b[?25hdone\n",
            "  Created wheel for nltk: filename=nltk-3.3-py3-none-any.whl size=1394484 sha256=84f0794c462eaa061a9326837bcad7d33a9490dadfff20cbc4963fc434f87a2d\n",
            "  Stored in directory: /root/.cache/pip/wheels/6b/6d/14/3defa4cd7013faeddf715150696f4a96d7725c87700eb8a68e\n",
            "  Building wheel for libwapiti (setup.py) ... \u001b[?25l\u001b[?25hdone\n",
            "  Created wheel for libwapiti: filename=libwapiti-0.2.1-cp310-cp310-linux_x86_64.whl size=180343 sha256=ddc782b77c113247ed076161d909f8e940274cd679180ce5f375e5735d6924c0\n",
            "  Stored in directory: /root/.cache/pip/wheels/9f/cb/30/fef48ecac051e433987eccdb5682900b4c00d44a4bcd4d4ec8\n",
            "Successfully built nltk libwapiti\n",
            "Installing collected packages: nltk, libwapiti, hazm\n",
            "  Attempting uninstall: nltk\n",
            "    Found existing installation: nltk 3.8.1\n",
            "    Uninstalling nltk-3.8.1:\n",
            "      Successfully uninstalled nltk-3.8.1\n",
            "Successfully installed hazm-0.7.0 libwapiti-0.2.1 nltk-3.3\n"
          ]
        }
      ],
      "source": [
        "!pip install hazm"
      ]
    },
    {
      "cell_type": "code",
      "execution_count": 6,
      "metadata": {
        "id": "c_qV0iYsr-lB"
      },
      "outputs": [],
      "source": [
        "from __future__ import unicode_literals\n",
        "from hazm import Normalizer, Lemmatizer, word_tokenize\n",
        "from tqdm import tqdm\n",
        "import re\n",
        "\n",
        "normalizer = Normalizer()\n",
        "lemmatizer = Lemmatizer()\n",
        "\n",
        "\n",
        "def normalize(line: str):\n",
        "    line = re.sub(\n",
        "        r'[.{}[\\]؛:«»؟!٬٫٪×،*)(ـ+<>\\'\",`=+\\-?!@#$%^&*()_\\/\\\\\\\\]', '', line.strip())\n",
        "    line = re.sub(r'\\s+', ' ', line.strip())\n",
        "    line = normalizer.normalize(line)\n",
        "    words = word_tokenize(line)\n",
        "    words = [lemmatizer.lemmatize(word) for word in words]\n",
        "    line = ' '.join(words)\n",
        "    return line\n"
      ]
    },
    {
      "cell_type": "code",
      "execution_count": 7,
      "metadata": {
        "colab": {
          "base_uri": "https://localhost:8080/",
          "height": 36
        },
        "id": "bJwjSKcs1eEf",
        "outputId": "4f525da5-7ae8-4dd7-e8cc-4e2b207f9ec6"
      },
      "outputs": [
        {
          "output_type": "execute_result",
          "data": {
            "text/plain": [
              "'من خیلی خوشحال #هست و کتاب زیاد درباره یخچال قطب خواند#خوان'"
            ],
            "application/vnd.google.colaboratory.intrinsic+json": {
              "type": "string"
            }
          },
          "metadata": {},
          "execution_count": 7
        }
      ],
      "source": [
        "normalize('من خیلی خوشحال هستم و کتاب‌های زیادی درباره یخچال‌های قطبی خوانده‌ام.')"
      ]
    },
    {
      "cell_type": "code",
      "execution_count": 8,
      "metadata": {
        "colab": {
          "base_uri": "https://localhost:8080/"
        },
        "id": "AOD9fyM3sK8K",
        "outputId": "51bb5ecb-14c3-43e5-c7dc-3974ba134c72"
      },
      "outputs": [
        {
          "output_type": "stream",
          "name": "stderr",
          "text": [
            "100%|██████████| 488253/488253 [01:01<00:00, 7889.72it/s]\n"
          ]
        }
      ],
      "source": [
        "voa = open('voa_persian.txt')\n",
        "voa_norm = open('voa_persian_normalized.txt', 'w')\n",
        "for i, line in tqdm(enumerate(voa), total=488253):\n",
        "    voa_norm.write(normalize(line) + '\\n')\n"
      ]
    },
    {
      "cell_type": "code",
      "execution_count": 9,
      "metadata": {
        "colab": {
          "base_uri": "https://localhost:8080/"
        },
        "id": "Df4v9sYDxDT9",
        "outputId": "c70bb88c-a120-4d7c-a9eb-177483949424"
      },
      "outputs": [
        {
          "output_type": "stream",
          "name": "stdout",
          "text": [
            "پیمان صلح بین ژاپن و روسیه\n",
            "بنا به گزارش منتشره در توکیو ژاپن و روسیه در زمینه یک پیمان صلح در چارچوب گسترده توافق کرد#کن که رسما به مخاصمات جنگ دوم جهانی میان دو کشور پایان داد#ده\n",
            "\n",
            "در یک از این گزارش که از سو خبرگزاری کیودوانتشار یافته گفت#گو که دو کشور برای رفع اختلافات دیرین خود بر سر چهار جزیره از جزایر زنجیره کوریل بر اساس سه پیمان گذشته خود عمل کرد#کن\n",
            "بموجب یک از این پیمان که در سال ۱۹۵۶ امضاء شده دو تا از این جزیره پس از امضاء یک پیمان صلح به ژاپن پس داد#ده\n",
            "اما بموجب پیمان که در سال ۱۹۹۳ به امضاء رسیده مسئله حاکمیت این چهار جزیره ایستاد#ایست پیش از امضاء پیمان صلح فیصله یافت#یاب\n",
            "هیچ یک از دو طرف نحوه استفاده از پیمان پیشین را اعلام کرد#کن\n",
            "\n",
            "تشکیلات فلسطین نخستین بودجه رسم خود را اعلام کرد#کن\n",
            "تشکیلات فلسطین پس از دو سال نخستین بودجه رسم خود را اعلام کرد#کن و قول داد برای از میان برداشتن فساد و پاسخگوئی بیشتر به مردم تلاش کند\n"
          ]
        }
      ],
      "source": [
        "!head voa_persian_normalized.txt"
      ]
    },
    {
      "cell_type": "markdown",
      "metadata": {
        "id": "r9-rAN6e2tNx"
      },
      "source": [
        "### Language Model"
      ]
    },
    {
      "cell_type": "markdown",
      "metadata": {
        "id": "AWdUYOwnsXKj"
      },
      "source": [
        "Now we'll use `KenLM` to train an N-gram language model. an N-gram model calculates probability of N words being together.\n",
        "\n",
        "You can read more about N-gram [here](https://towardsdatascience.com/understanding-word-n-grams-and-n-gram-probability-in-natural-language-processing-9d9eef0fa058).\n",
        "\n",
        "First, let's install download and build `KenLM`."
      ]
    },
    {
      "cell_type": "code",
      "execution_count": 10,
      "metadata": {
        "colab": {
          "base_uri": "https://localhost:8080/"
        },
        "id": "TtuYeg5Gq2AW",
        "outputId": "331b1060-c339-4356-e943-cffb2184f3c8"
      },
      "outputs": [
        {
          "output_type": "stream",
          "name": "stdout",
          "text": [
            "--2023-04-28 09:49:13--  https://kheafield.com/code/kenlm.tar.gz\n",
            "Resolving kheafield.com (kheafield.com)... 35.196.63.85\n",
            "Connecting to kheafield.com (kheafield.com)|35.196.63.85|:443... connected.\n",
            "HTTP request sent, awaiting response... 200 OK\n",
            "Length: 491888 (480K) [application/x-gzip]\n",
            "Saving to: ‘STDOUT’\n",
            "\n",
            "-                   100%[===================>] 480.36K  --.-KB/s    in 0.09s   \n",
            "\n",
            "2023-04-28 09:49:13 (5.41 MB/s) - written to stdout [491888/491888]\n",
            "\n",
            "-- The C compiler identification is GNU 9.4.0\n",
            "-- The CXX compiler identification is GNU 9.4.0\n",
            "-- Detecting C compiler ABI info\n",
            "-- Detecting C compiler ABI info - done\n",
            "-- Check for working C compiler: /usr/bin/cc - skipped\n",
            "-- Detecting C compile features\n",
            "-- Detecting C compile features - done\n",
            "-- Detecting CXX compiler ABI info\n",
            "-- Detecting CXX compiler ABI info - done\n",
            "-- Check for working CXX compiler: /usr/bin/c++ - skipped\n",
            "-- Detecting CXX compile features\n",
            "-- Detecting CXX compile features - done\n",
            "-- Could NOT find Eigen3 (missing: Eigen3_DIR)\n",
            "-- Found Boost: /usr/lib/x86_64-linux-gnu/cmake/Boost-1.71.0/BoostConfig.cmake (found suitable version \"1.71.0\", minimum required is \"1.41.0\") found components: program_options system thread unit_test_framework \n",
            "-- Check if compiler accepts -pthread\n",
            "-- Check if compiler accepts -pthread - yes\n",
            "-- Found Threads: TRUE  \n",
            "-- Found ZLIB: /usr/lib/x86_64-linux-gnu/libz.so (found version \"1.2.11\") \n",
            "-- Found BZip2: /usr/lib/x86_64-linux-gnu/libbz2.so (found version \"1.0.8\") \n",
            "-- Looking for BZ2_bzCompressInit\n",
            "-- Looking for BZ2_bzCompressInit - found\n",
            "-- Looking for lzma_auto_decoder in /usr/lib/x86_64-linux-gnu/liblzma.so\n",
            "-- Looking for lzma_auto_decoder in /usr/lib/x86_64-linux-gnu/liblzma.so - found\n",
            "-- Looking for lzma_easy_encoder in /usr/lib/x86_64-linux-gnu/liblzma.so\n",
            "-- Looking for lzma_easy_encoder in /usr/lib/x86_64-linux-gnu/liblzma.so - found\n",
            "-- Looking for lzma_lzma_preset in /usr/lib/x86_64-linux-gnu/liblzma.so\n",
            "-- Looking for lzma_lzma_preset in /usr/lib/x86_64-linux-gnu/liblzma.so - found\n",
            "-- Found LibLZMA: /usr/lib/x86_64-linux-gnu/liblzma.so (found version \"5.2.4\") \n",
            "-- Looking for clock_gettime in rt\n",
            "-- Looking for clock_gettime in rt - found\n",
            "-- Configuring done\n",
            "-- Generating done\n",
            "-- Build files have been written to: /content/kenlm/build\n",
            "[  2%] \u001b[32mBuilding CXX object util/CMakeFiles/kenlm_util.dir/double-conversion/bignum.cc.o\u001b[0m\n",
            "[  2%] \u001b[32mBuilding CXX object util/CMakeFiles/kenlm_util.dir/double-conversion/bignum-dtoa.cc.o\u001b[0m\n",
            "[  3%] \u001b[32mBuilding CXX object util/CMakeFiles/kenlm_util.dir/double-conversion/cached-powers.cc.o\u001b[0m\n",
            "[  5%] \u001b[32mBuilding CXX object util/CMakeFiles/kenlm_util.dir/double-conversion/diy-fp.cc.o\u001b[0m\n",
            "[  6%] \u001b[32mBuilding CXX object util/CMakeFiles/kenlm_util.dir/double-conversion/double-conversion.cc.o\u001b[0m\n",
            "[  7%] \u001b[32mBuilding CXX object util/CMakeFiles/kenlm_util.dir/double-conversion/fast-dtoa.cc.o\u001b[0m\n",
            "[  8%] \u001b[32mBuilding CXX object util/CMakeFiles/kenlm_util.dir/double-conversion/fixed-dtoa.cc.o\u001b[0m\n",
            "[ 10%] \u001b[32mBuilding CXX object util/CMakeFiles/kenlm_util.dir/double-conversion/strtod.cc.o\u001b[0m\n",
            "[ 11%] \u001b[32mBuilding CXX object util/CMakeFiles/kenlm_util.dir/stream/chain.cc.o\u001b[0m\n",
            "[ 12%] \u001b[32mBuilding CXX object util/CMakeFiles/kenlm_util.dir/stream/count_records.cc.o\u001b[0m\n",
            "[ 13%] \u001b[32mBuilding CXX object util/CMakeFiles/kenlm_util.dir/stream/io.cc.o\u001b[0m\n",
            "[ 15%] \u001b[32mBuilding CXX object util/CMakeFiles/kenlm_util.dir/stream/line_input.cc.o\u001b[0m\n",
            "[ 16%] \u001b[32mBuilding CXX object util/CMakeFiles/kenlm_util.dir/stream/multi_progress.cc.o\u001b[0m\n",
            "[ 17%] \u001b[32mBuilding CXX object util/CMakeFiles/kenlm_util.dir/stream/rewindable_stream.cc.o\u001b[0m\n",
            "[ 18%] \u001b[32mBuilding CXX object util/CMakeFiles/kenlm_util.dir/bit_packing.cc.o\u001b[0m\n",
            "[ 20%] \u001b[32mBuilding CXX object util/CMakeFiles/kenlm_util.dir/ersatz_progress.cc.o\u001b[0m\n",
            "[ 21%] \u001b[32mBuilding CXX object util/CMakeFiles/kenlm_util.dir/exception.cc.o\u001b[0m\n",
            "[ 22%] \u001b[32mBuilding CXX object util/CMakeFiles/kenlm_util.dir/file.cc.o\u001b[0m\n",
            "[ 23%] \u001b[32mBuilding CXX object util/CMakeFiles/kenlm_util.dir/file_piece.cc.o\u001b[0m\n",
            "[ 25%] \u001b[32mBuilding CXX object util/CMakeFiles/kenlm_util.dir/float_to_string.cc.o\u001b[0m\n",
            "[ 26%] \u001b[32mBuilding CXX object util/CMakeFiles/kenlm_util.dir/integer_to_string.cc.o\u001b[0m\n",
            "[ 27%] \u001b[32mBuilding CXX object util/CMakeFiles/kenlm_util.dir/mmap.cc.o\u001b[0m\n",
            "[ 28%] \u001b[32mBuilding CXX object util/CMakeFiles/kenlm_util.dir/murmur_hash.cc.o\u001b[0m\n",
            "[ 30%] \u001b[32mBuilding CXX object util/CMakeFiles/kenlm_util.dir/parallel_read.cc.o\u001b[0m\n",
            "[ 31%] \u001b[32mBuilding CXX object util/CMakeFiles/kenlm_util.dir/pool.cc.o\u001b[0m\n",
            "[ 32%] \u001b[32mBuilding CXX object util/CMakeFiles/kenlm_util.dir/read_compressed.cc.o\u001b[0m\n",
            "[ 33%] \u001b[32mBuilding CXX object util/CMakeFiles/kenlm_util.dir/scoped.cc.o\u001b[0m\n",
            "[ 35%] \u001b[32mBuilding CXX object util/CMakeFiles/kenlm_util.dir/spaces.cc.o\u001b[0m\n",
            "[ 36%] \u001b[32mBuilding CXX object util/CMakeFiles/kenlm_util.dir/string_piece.cc.o\u001b[0m\n",
            "[ 37%] \u001b[32mBuilding CXX object util/CMakeFiles/kenlm_util.dir/usage.cc.o\u001b[0m\n",
            "[ 38%] \u001b[32m\u001b[1mLinking CXX static library ../lib/libkenlm_util.a\u001b[0m\n",
            "[ 38%] Built target kenlm_util\n",
            "[ 40%] \u001b[32mBuilding CXX object util/CMakeFiles/probing_hash_table_benchmark.dir/probing_hash_table_benchmark_main.cc.o\u001b[0m\n",
            "[ 41%] \u001b[32mBuilding CXX object lm/CMakeFiles/kenlm.dir/bhiksha.cc.o\u001b[0m\n",
            "[ 42%] \u001b[32mBuilding CXX object lm/CMakeFiles/kenlm.dir/binary_format.cc.o\u001b[0m\n",
            "[ 43%] \u001b[32mBuilding CXX object lm/CMakeFiles/kenlm.dir/config.cc.o\u001b[0m\n",
            "[ 45%] \u001b[32mBuilding CXX object lm/CMakeFiles/kenlm.dir/lm_exception.cc.o\u001b[0m\n",
            "[ 46%] \u001b[32mBuilding CXX object lm/CMakeFiles/kenlm.dir/model.cc.o\u001b[0m\n",
            "[ 47%] \u001b[32mBuilding CXX object lm/CMakeFiles/kenlm.dir/quantize.cc.o\u001b[0m\n",
            "[ 48%] \u001b[32mBuilding CXX object lm/CMakeFiles/kenlm.dir/read_arpa.cc.o\u001b[0m\n",
            "[ 50%] \u001b[32mBuilding CXX object lm/CMakeFiles/kenlm.dir/search_hashed.cc.o\u001b[0m\n",
            "[ 51%] \u001b[32m\u001b[1mLinking CXX executable ../bin/probing_hash_table_benchmark\u001b[0m\n",
            "[ 51%] Built target probing_hash_table_benchmark\n",
            "[ 52%] \u001b[32mBuilding CXX object lm/filter/CMakeFiles/kenlm_filter.dir/arpa_io.cc.o\u001b[0m\n",
            "[ 53%] \u001b[32mBuilding CXX object lm/filter/CMakeFiles/kenlm_filter.dir/phrase.cc.o\u001b[0m\n",
            "[ 55%] \u001b[32mBuilding CXX object lm/CMakeFiles/kenlm.dir/search_trie.cc.o\u001b[0m\n",
            "[ 56%] \u001b[32mBuilding CXX object lm/filter/CMakeFiles/kenlm_filter.dir/vocab.cc.o\u001b[0m\n",
            "[ 57%] \u001b[32m\u001b[1mLinking CXX static library ../../lib/libkenlm_filter.a\u001b[0m\n",
            "[ 57%] Built target kenlm_filter\n",
            "[ 58%] \u001b[32mBuilding CXX object lm/CMakeFiles/kenlm.dir/sizes.cc.o\u001b[0m\n",
            "[ 60%] \u001b[32mBuilding CXX object lm/CMakeFiles/kenlm.dir/trie.cc.o\u001b[0m\n",
            "[ 61%] \u001b[32mBuilding CXX object lm/CMakeFiles/kenlm.dir/trie_sort.cc.o\u001b[0m\n",
            "[ 62%] \u001b[32mBuilding CXX object lm/CMakeFiles/kenlm.dir/value_build.cc.o\u001b[0m\n",
            "[ 63%] \u001b[32mBuilding CXX object lm/CMakeFiles/kenlm.dir/virtual_interface.cc.o\u001b[0m\n",
            "[ 65%] \u001b[32mBuilding CXX object lm/CMakeFiles/kenlm.dir/vocab.cc.o\u001b[0m\n",
            "[ 66%] \u001b[32mBuilding CXX object lm/CMakeFiles/kenlm.dir/common/model_buffer.cc.o\u001b[0m\n",
            "[ 67%] \u001b[32mBuilding CXX object lm/CMakeFiles/kenlm.dir/common/print.cc.o\u001b[0m\n",
            "[ 68%] \u001b[32mBuilding CXX object lm/CMakeFiles/kenlm.dir/common/renumber.cc.o\u001b[0m\n",
            "[ 70%] \u001b[32mBuilding CXX object lm/CMakeFiles/kenlm.dir/common/size_option.cc.o\u001b[0m\n",
            "[ 71%] \u001b[32m\u001b[1mLinking CXX static library ../lib/libkenlm.a\u001b[0m\n",
            "[ 71%] Built target kenlm\n",
            "[ 73%] \u001b[32mBuilding CXX object lm/CMakeFiles/query.dir/query_main.cc.o\u001b[0m\n",
            "[ 73%] \u001b[32mBuilding CXX object lm/CMakeFiles/fragment.dir/fragment_main.cc.o\u001b[0m\n",
            "[ 75%] \u001b[32m\u001b[1mLinking CXX executable ../bin/fragment\u001b[0m\n",
            "[ 75%] Built target fragment\n",
            "[ 76%] \u001b[32mBuilding CXX object lm/CMakeFiles/build_binary.dir/build_binary_main.cc.o\u001b[0m\n",
            "[ 77%] \u001b[32m\u001b[1mLinking CXX executable ../bin/query\u001b[0m\n",
            "[ 77%] Built target query\n",
            "[ 78%] \u001b[32mBuilding CXX object lm/CMakeFiles/kenlm_benchmark.dir/kenlm_benchmark_main.cc.o\u001b[0m\n",
            "[ 80%] \u001b[32m\u001b[1mLinking CXX executable ../bin/build_binary\u001b[0m\n",
            "[ 80%] Built target build_binary\n",
            "[ 81%] \u001b[32mBuilding CXX object lm/builder/CMakeFiles/kenlm_builder.dir/adjust_counts.cc.o\u001b[0m\n",
            "[ 82%] \u001b[32mBuilding CXX object lm/builder/CMakeFiles/kenlm_builder.dir/corpus_count.cc.o\u001b[0m\n",
            "[ 83%] \u001b[32mBuilding CXX object lm/builder/CMakeFiles/kenlm_builder.dir/initial_probabilities.cc.o\u001b[0m\n",
            "[ 85%] \u001b[32mBuilding CXX object lm/builder/CMakeFiles/kenlm_builder.dir/interpolate.cc.o\u001b[0m\n",
            "[ 86%] \u001b[32mBuilding CXX object lm/builder/CMakeFiles/kenlm_builder.dir/output.cc.o\u001b[0m\n",
            "[ 87%] \u001b[32m\u001b[1mLinking CXX executable ../bin/kenlm_benchmark\u001b[0m\n",
            "[ 87%] Built target kenlm_benchmark\n",
            "[ 88%] \u001b[32mBuilding CXX object lm/filter/CMakeFiles/filter.dir/filter_main.cc.o\u001b[0m\n",
            "[ 90%] \u001b[32mBuilding CXX object lm/builder/CMakeFiles/kenlm_builder.dir/pipeline.cc.o\u001b[0m\n",
            "[ 91%] \u001b[32m\u001b[1mLinking CXX static library ../../lib/libkenlm_builder.a\u001b[0m\n",
            "[ 91%] Built target kenlm_builder\n",
            "[ 92%] \u001b[32mBuilding CXX object lm/filter/CMakeFiles/phrase_table_vocab.dir/phrase_table_vocab_main.cc.o\u001b[0m\n",
            "[ 93%] \u001b[32m\u001b[1mLinking CXX executable ../../bin/phrase_table_vocab\u001b[0m\n",
            "[ 93%] Built target phrase_table_vocab\n",
            "[ 95%] \u001b[32mBuilding CXX object lm/builder/CMakeFiles/lmplz.dir/lmplz_main.cc.o\u001b[0m\n",
            "[ 96%] \u001b[32m\u001b[1mLinking CXX executable ../../bin/filter\u001b[0m\n",
            "[ 96%] Built target filter\n",
            "[ 97%] \u001b[32mBuilding CXX object lm/builder/CMakeFiles/count_ngrams.dir/count_ngrams_main.cc.o\u001b[0m\n",
            "[ 98%] \u001b[32m\u001b[1mLinking CXX executable ../../bin/lmplz\u001b[0m\n",
            "[ 98%] Built target lmplz\n",
            "[100%] \u001b[32m\u001b[1mLinking CXX executable ../../bin/count_ngrams\u001b[0m\n",
            "[100%] Built target count_ngrams\n"
          ]
        }
      ],
      "source": [
        "!wget -O - https://kheafield.com/code/kenlm.tar.gz | tar xz; mkdir kenlm/build; cd kenlm/build; cmake ..; make -j2"
      ]
    },
    {
      "cell_type": "markdown",
      "metadata": {
        "id": "-NB9vhHY3Wkt"
      },
      "source": [
        "Now let's make a 5-gram model using "
      ]
    },
    {
      "cell_type": "code",
      "execution_count": 11,
      "metadata": {
        "colab": {
          "base_uri": "https://localhost:8080/"
        },
        "id": "Wvr9XW2btIp-",
        "outputId": "3d828a63-eeb5-41e9-e315-a30a3ff9a2b4"
      },
      "outputs": [
        {
          "output_type": "stream",
          "name": "stdout",
          "text": [
            "=== 1/5 Counting and sorting n-grams ===\n",
            "Reading /content/voa_persian_normalized.txt\n",
            "----5---10---15---20---25---30---35---40---45---50---55---60---65---70---75---80---85---90---95--100\n",
            "****************************************************************************************************\n",
            "Unigram tokens 7151282 types 105479\n",
            "=== 2/5 Calculating and sorting adjusted counts ===\n",
            "Chain sizes: 1:1265748 2:1062614080 3:1992401408 4:3187842048 5:4648936960\n",
            "Statistics:\n",
            "1 105479 D1=0.692798 D2=1.02059 D3+=1.36868\n",
            "2 1273831 D1=0.753634 D2=1.09875 D3+=1.3404\n",
            "3 3442840 D1=0.837136 D2=1.17748 D3+=1.39394\n",
            "4 5019073 D1=0.905517 D2=1.28916 D3+=1.43789\n",
            "5 5610872 D1=0.891831 D2=1.51472 D3+=1.61131\n",
            "Memory estimate for binary LM:\n",
            "type     MB\n",
            "probing 321 assuming -p 1.5\n",
            "probing 377 assuming -r models -p 1.5\n",
            "trie    153 without quantization\n",
            "trie     83 assuming -q 8 -b 8 quantization \n",
            "trie    135 assuming -a 22 array pointer compression\n",
            "trie     66 assuming -a 22 -q 8 -b 8 array pointer compression and quantization\n",
            "=== 3/5 Calculating and sorting initial probabilities ===\n",
            "Chain sizes: 1:1265748 2:20381296 3:68856800 4:120457752 5:157104416\n",
            "----5---10---15---20---25---30---35---40---45---50---55---60---65---70---75---80---85---90---95--100\n",
            "####################################################################################################\n",
            "=== 4/5 Calculating and writing order-interpolated probabilities ===\n",
            "Chain sizes: 1:1265748 2:20381296 3:68856800 4:120457752 5:157104416\n",
            "----5---10---15---20---25---30---35---40---45---50---55---60---65---70---75---80---85---90---95--100\n",
            "####################################################################################################\n",
            "=== 5/5 Writing ARPA model ===\n",
            "----5---10---15---20---25---30---35---40---45---50---55---60---65---70---75---80---85---90---95--100\n",
            "****************************************************************************************************\n",
            "Name:lmplz\tVmPeak:10810012 kB\tVmRSS:29440 kB\tRSSMax:2063132 kB\tuser:19.8266\tsys:6.25161\tCPU:26.0783\treal:23.5583\n"
          ]
        }
      ],
      "source": [
        "!kenlm/build/bin/lmplz -o 5 <\"voa_persian_normalized.txt\"> \"voa_persian.arpa\""
      ]
    },
    {
      "cell_type": "code",
      "execution_count": 12,
      "metadata": {
        "colab": {
          "base_uri": "https://localhost:8080/"
        },
        "id": "lHIy7Bo8FDAO",
        "outputId": "9d50ce57-50e5-4b2c-e30d-04a1836bd1fe"
      },
      "outputs": [
        {
          "output_type": "stream",
          "name": "stdout",
          "text": [
            "\\data\\\n",
            "ngram 1=105479\n",
            "ngram 2=1273831\n",
            "ngram 3=3442840\n",
            "ngram 4=5019073\n",
            "ngram 5=5610872\n",
            "\n",
            "\\1-grams:\n",
            "-6.138535\t<unk>\t0\n",
            "0\t<s>\t-1.5815679\n",
            "-2.1129756\t</s>\t0\n",
            "-3.5871809\tپیمان\t-0.50824106\n",
            "-3.304699\tصلح\t-0.560521\n",
            "-2.891446\tبین\t-0.67797303\n",
            "-3.303326\tژاپن\t-0.5074899\n",
            "-2.0037236\tو\t-0.8103652\n",
            "-3.097553\tروسیه\t-0.56382215\n",
            "-3.694238\tبنا\t-0.5076225\n",
            "-2.0797832\tبه\t-1.0190648\n",
            "-3.047614\tگزارش\t-0.6365477\n"
          ]
        }
      ],
      "source": [
        "!head -n 20 voa_persian.arpa"
      ]
    },
    {
      "cell_type": "markdown",
      "metadata": {
        "id": "gkcS4dFtujvo"
      },
      "source": [
        "Now lets extract the list of words and sort them using their probabilities."
      ]
    },
    {
      "cell_type": "code",
      "execution_count": 13,
      "metadata": {
        "colab": {
          "base_uri": "https://localhost:8080/"
        },
        "id": "jSR4Cw6st1G7",
        "outputId": "5952a3fa-1946-4fdf-c3d0-ef64ce995598"
      },
      "outputs": [
        {
          "output_type": "execute_result",
          "data": {
            "text/plain": [
              "['</s>',\n",
              " 'در',\n",
              " 'و',\n",
              " 'به',\n",
              " 'را',\n",
              " 'که',\n",
              " 'از',\n",
              " 'با',\n",
              " '#است',\n",
              " 'بود#باش',\n",
              " 'یک',\n",
              " 'برای',\n",
              " 'این',\n",
              " 'شد#شو',\n",
              " 'گفت#گو',\n",
              " 'خود',\n",
              " 'آن',\n",
              " 'کرد#کن',\n",
              " 'روز',\n",
              " 'نیز']"
            ]
          },
          "metadata": {},
          "execution_count": 13
        }
      ],
      "source": [
        "words = []\n",
        "words_started = False\n",
        "with open('voa_persian.arpa') as f:\n",
        "    for line in f:\n",
        "        line = line.strip()\n",
        "        if not words_started:\n",
        "            if line == r'\\1-grams:':\n",
        "                words_started = True\n",
        "        else:\n",
        "            if line == r'\\2-grams:':\n",
        "                words = words[:-1]\n",
        "                break\n",
        "            words.append(line.split())\n",
        "words_sorted = sorted(words, key=lambda x: x[0])\n",
        "words_total = [w[1] for w in words_sorted]\n",
        "words_total.remove('</s>')\n",
        "words_total.insert(0, '</s>')\n",
        "words_total[:20]\n"
      ]
    },
    {
      "cell_type": "code",
      "execution_count": 14,
      "metadata": {
        "colab": {
          "base_uri": "https://localhost:8080/"
        },
        "id": "lxznD7kt3f_T",
        "outputId": "3253eb30-be08-4254-fe45-f624fa7d605d"
      },
      "outputs": [
        {
          "output_type": "stream",
          "name": "stdout",
          "text": [
            "Looking in indexes: https://pypi.org/simple, https://us-python.pkg.dev/colab-wheels/public/simple/\n",
            "Collecting https://github.com/kpu/kenlm/archive/master.zip\n",
            "  Downloading https://github.com/kpu/kenlm/archive/master.zip\n",
            "\u001b[2K     \u001b[32m\\\u001b[0m \u001b[32m553.5 kB\u001b[0m \u001b[31m7.3 MB/s\u001b[0m \u001b[33m0:00:00\u001b[0m\n",
            "\u001b[?25h  Installing build dependencies ... \u001b[?25l\u001b[?25hdone\n",
            "  Getting requirements to build wheel ... \u001b[?25l\u001b[?25hdone\n",
            "  Preparing metadata (pyproject.toml) ... \u001b[?25l\u001b[?25hdone\n",
            "Building wheels for collected packages: kenlm\n",
            "  Building wheel for kenlm (pyproject.toml) ... \u001b[?25l\u001b[?25hdone\n",
            "  Created wheel for kenlm: filename=kenlm-0.0.0-cp310-cp310-linux_x86_64.whl size=3255372 sha256=00cce6143b11b1fba242202d7b8996402b201b24ed7d2c2c24ad9727b5a2a442\n",
            "  Stored in directory: /tmp/pip-ephem-wheel-cache-cs2d_qob/wheels/a5/73/ee/670fbd0cee8f6f0b21d10987cb042291e662e26e1a07026462\n",
            "Successfully built kenlm\n",
            "Installing collected packages: kenlm\n",
            "Successfully installed kenlm-0.0.0\n"
          ]
        }
      ],
      "source": [
        "!pip install https://github.com/kpu/kenlm/archive/master.zip"
      ]
    },
    {
      "cell_type": "code",
      "execution_count": 15,
      "metadata": {
        "id": "eIeI7WM13nK4"
      },
      "outputs": [],
      "source": [
        "import kenlm\n",
        "\n",
        "model = kenlm.Model('voa_persian.arpa')"
      ]
    },
    {
      "cell_type": "markdown",
      "metadata": {
        "id": "RepmrJXhzmjt"
      },
      "source": [
        "Now we need a measure using our language model to measure how well our sentence fit together. Our model can measure the probability of a sentence using N-gram.\n",
        "\n",
        "This has a downside. the longer the sentence gets, the lower its' probability becomes. We don't want that. So we introduce `perplexity`. a measure which is normalized by the sentence's length. Lower perplexity means the semantics of our sentence fits better together.\n",
        "\n",
        "You can read more about perplexity [here](https://medium.com/nlplanet/two-minutes-nlp-perplexity-explained-with-simple-probabilities-6cdc46884584).\n",
        "$$\n",
        "\\begin{align}\n",
        "PP(S) &= 10 ^ {-\\frac{log(P(S))}{N}} \\\\\n",
        "PP(S) &= \\sqrt[N]{\\frac{1}{P(S)}} \\\\\n",
        "PP(S) &= \\sqrt[N]{\\frac{1}{P(W_1W_2...W_N)}} \\\\\n",
        "PP(S) &= \\sqrt[N]{\\prod_{i=1}^N{\\frac{1}{P(W_i|W_1W_2...W_{i-1})}}}\n",
        "\\end{align}\n",
        "$$\n",
        "**Note**: `KenLM` score function return log10 probability of a sentence."
      ]
    },
    {
      "cell_type": "markdown",
      "metadata": {
        "id": "q2Y5NjoHoSNz"
      },
      "source": [
        "### Perplexity (10 Points)"
      ]
    },
    {
      "cell_type": "code",
      "execution_count": 16,
      "metadata": {
        "id": "oPH4awk57yOZ"
      },
      "outputs": [],
      "source": [
        "def perplexity(sentence: str):\n",
        "    \"\"\"\n",
        "    returns the perplexity of a sentence using model.score method\n",
        "    Args:\n",
        "      sentence: string of words\n",
        "\n",
        "    Returns:\n",
        "      perplexity: 10^(-lop10p(sentence) / N)\n",
        "    \"\"\"\n",
        "    N = len(sentence.split())\n",
        "    pp = pow(10 , -model.score(sentence)/N)\n",
        "    return pp\n"
      ]
    },
    {
      "cell_type": "code",
      "execution_count": 17,
      "metadata": {
        "id": "v3u6rF1M6PQH"
      },
      "outputs": [],
      "source": [
        "sen_1 = normalize('من خوشحال شدم')\n",
        "sen_2 = normalize('من خودکار شدم')\n",
        "sen_3 = normalize('من کتاب یخچال')\n",
        "sen_4 = normalize('نستب سنبتس سنمبتم')\n"
      ]
    },
    {
      "cell_type": "code",
      "execution_count": 18,
      "metadata": {
        "colab": {
          "base_uri": "https://localhost:8080/"
        },
        "id": "Sv44dRB_6e4C",
        "outputId": "30180e2a-aedd-4ae0-cafe-0d88f61b2759"
      },
      "outputs": [
        {
          "output_type": "stream",
          "name": "stdout",
          "text": [
            "من خوشحال شد#شو 706.3661171531168\n",
            "من خودکار شد#شو 13076.187677740996\n",
            "من کتاب یخچال 145940.446071158\n",
            "نستب سنبتس سنمبتم 23444976.10881125\n"
          ]
        }
      ],
      "source": [
        "print(sen_1, perplexity(sen_1))\n",
        "print(sen_2, perplexity(sen_2))\n",
        "print(sen_3, perplexity(sen_3))\n",
        "print(sen_4, perplexity(sen_4))\n"
      ]
    },
    {
      "cell_type": "markdown",
      "metadata": {
        "id": "z_oHC5Vy7ypg"
      },
      "source": [
        "## Reinforcement Learning"
      ]
    },
    {
      "cell_type": "markdown",
      "metadata": {
        "id": "M2VRX8HM72PX"
      },
      "source": [
        "### Reward Function (10 Points)"
      ]
    },
    {
      "cell_type": "markdown",
      "metadata": {
        "id": "lX_ET9KYb4ov"
      },
      "source": [
        "Reward function should give us a reward based on how the last word added to the sentence changed the meaning and how well it fits with the others."
      ]
    },
    {
      "cell_type": "code",
      "execution_count": 19,
      "metadata": {
        "id": "QgsbpKE4CyI4"
      },
      "outputs": [],
      "source": [
        "def reward(base_sentence: str, new_word: str):\n",
        "    \"\"\"\n",
        "    returns the reward of adding a new word to a base sentence\n",
        "    Args:\n",
        "      base_sentence: string of words up until now\n",
        "      new_word: new word to be added to the base sentence\n",
        "\n",
        "    Returns:\n",
        "      reward: change of perplexity of the base sentence after adding the new word. positive reward means the new word is more likely to be added to the base sentence.\n",
        "    \"\"\"\n",
        "    reward=0\n",
        "    if (len(base_sentence.split())) ==0:\n",
        "      reward=+1\n",
        "      return reward\n",
        "    new_sentence=base_sentence+' '+new_word\n",
        "    pp_old=perplexity(base_sentence)\n",
        "    pp_new=perplexity(new_sentence)\n",
        "    \n",
        "    if pp_old<pp_new:\n",
        "      reward = -1\n",
        "    else:\n",
        "      reward = 1\n",
        "    return reward\n"
      ]
    },
    {
      "cell_type": "code",
      "execution_count": 20,
      "metadata": {
        "colab": {
          "base_uri": "https://localhost:8080/"
        },
        "id": "8jk1iYSm73l9",
        "outputId": "9d70682f-dfdc-4c0b-b778-cabc4484e41a"
      },
      "outputs": [
        {
          "output_type": "stream",
          "name": "stdout",
          "text": [
            "1\n",
            "1\n",
            "1\n",
            "1\n",
            "1\n",
            "-1\n"
          ]
        }
      ],
      "source": [
        "print(reward('', 'من'))\n",
        "print(reward('من', 'خوشحال'))\n",
        "print(reward('من خوشحال', 'شد#شو'))\n",
        "print(reward('جنگ جهانی', 'اول'))\n",
        "print(reward('جنگ جهانی', 'دوم'))\n",
        "print(reward('جنگ جهانی', 'صورتی'))\n"
      ]
    },
    {
      "cell_type": "markdown",
      "metadata": {
        "id": "F1ga2l1WczI5"
      },
      "source": [
        "Since we have to implement text generator using a tabular implementation, we have to assume that all that matters in a text is in a window of N words. It matches our language model of N-gram.\n",
        "\n",
        "We model it using MDP. the first state is `<s>` state. it has no text and 0 perplexity. The next state is $W_1$ state. We usually have a negative perplexity because no text has more meaning than a one word sentence. Next is $W_1W_2$ state until we reach $W_1W_2...W_N$ state, from then with our window assumption we go to $W_2W_3...W_{N+1}$ state and $W_3W_4...W_{N+2}$ and so on.\n",
        "\n",
        "First thing we notice is that our search space is **really** big. Each word choice has thousands of possibilites. We cannot model our search space using our normal Q Table.\n",
        "Since our states are sequential and we need to find the best word using our current state, we can use `dict` in `dict` architecture.\n",
        "\n",
        "First we reduce the search space to the 10K most used words.\n",
        "For faster computation, we use each word index for states."
      ]
    },
    {
      "cell_type": "markdown",
      "metadata": {
        "id": "i_1gWfK2oSN0"
      },
      "source": [
        "### Utility Functions (10 Points)"
      ]
    },
    {
      "cell_type": "code",
      "execution_count": 21,
      "metadata": {
        "colab": {
          "base_uri": "https://localhost:8080/"
        },
        "id": "yXXEro4V2T9f",
        "outputId": "12b39b8c-3b2d-4e2c-c543-e320c28f8f20"
      },
      "outputs": [
        {
          "output_type": "stream",
          "name": "stdout",
          "text": [
            "یک\n",
            "10\n",
            "مقام کارت رئیس .\n",
            "[389, 2887, -1]\n",
            "مقام یک برقرار مهارت\n",
            "[389, 10, 787, -1]\n"
          ]
        }
      ],
      "source": [
        "words = words_total[:10000]\n",
        "# 0 index is for </s> which means end of the sentence.\n",
        "indexes = dict()\n",
        "for i, w in enumerate(words):\n",
        "    indexes[w] = i\n",
        "\n",
        "\n",
        "def index_to_word(index: int):\n",
        "    \"\"\"\n",
        "    returns the word of a given index\n",
        "    Args:\n",
        "        index: index of the word\n",
        "\n",
        "    Returns:\n",
        "        word: word of the given index. '.' if the index is 0 (end of sentence or </s>)\n",
        "    \"\"\"\n",
        "    if index==0: return '.'\n",
        "    return words[index]  \n",
        "\n",
        "\n",
        "\n",
        "def word_to_index(word: str):\n",
        "    \"\"\"\n",
        "    returns the index of a given word\n",
        "    Args:\n",
        "        word: word of the given index. word should be normalized.\n",
        "\n",
        "    Returns:\n",
        "        index: index of the word. -1 if the word is not in the vocabulary\n",
        "    \"\"\"\n",
        "    if word not in indexes: return -1\n",
        "    return indexes[word]\n",
        "\n",
        "\n",
        "def state_to_sentence(state: list[int]):\n",
        "    \"\"\"\n",
        "    returns the sentence of a given state\n",
        "    Args:\n",
        "        state: list of indexes of words\n",
        "\n",
        "    Returns:\n",
        "        sentence: string of words. '.' when the state is 0 (end of sentence or </s>)\n",
        "    \"\"\"\n",
        "    sentence=''\n",
        "    a=0\n",
        "    for index in state:\n",
        "      if a==0:\n",
        "        sentence=index_to_word(index)\n",
        "      else:  \n",
        "         sentence = sentence + ' ' +index_to_word(index)\n",
        "      a+=1\n",
        "    return sentence\n",
        "\n",
        "def sentence_to_state(sentence: str):\n",
        "    \"\"\"\n",
        "    returns the state of a given sentence\n",
        "    Args:\n",
        "        sentence: string of words. sentence should be normalized.\n",
        "\n",
        "    Returns:\n",
        "        state: list of indexes of words. no need to add the index of </s> (end of sentence) to the state\n",
        "    \"\"\"\n",
        "    sen_words=sentence.split()\n",
        "    indes=[]  \n",
        "    for word in sen_words:\n",
        "      indes.append(word_to_index(word))\n",
        "    return indes  \n",
        "\n",
        "\n",
        "\n",
        "print(index_to_word(10))\n",
        "print(word_to_index('یک'))\n",
        "print(state_to_sentence([390, 2884, 24, 0]))\n",
        "print(sentence_to_state('من خوشحال هستم'))\n",
        "print(state_to_sentence([390, 10, 791, 3816]))\n",
        "print(sentence_to_state('من یک کتاب خریدم'))\n"
      ]
    },
    {
      "cell_type": "code",
      "execution_count": 22,
      "metadata": {
        "colab": {
          "base_uri": "https://localhost:8080/"
        },
        "id": "l5Jzz59DziLv",
        "outputId": "759b86bf-335b-4e5e-f7b9-eec7bd7cedcc"
      },
      "outputs": [
        {
          "output_type": "stream",
          "name": "stdout",
          "text": [
            "Q[من] 10\n",
            "Q[من, خوشحال] 20\n",
            "Q[من, خوشحال, هستم] 25\n"
          ]
        },
        {
          "output_type": "execute_result",
          "data": {
            "text/plain": [
              "{389: (10,\n",
              "  {2887: (20, {-1: (25, {0: (0, {})})}),\n",
              "   10: (5, {787: (15, {-1: (10, {})}), 479: (15, {-1: (8, {})})})}),\n",
              " 2172: (10,\n",
              "  {2887: (20, {7601: (7, {0: (0, {})})}),\n",
              "   27: (5, {787: (15, {-1: (11, {})})})})}"
            ]
          },
          "metadata": {},
          "execution_count": 22
        }
      ],
      "source": [
        "# example Q Table\n",
        "q_table = {\n",
        "    word_to_index('من'): (10, {\n",
        "        word_to_index('خوشحال'): (20, {\n",
        "            word_to_index('هستم'): (25, {\n",
        "                0: (0, {}),\n",
        "            }),\n",
        "        }),\n",
        "        word_to_index('یک'): (5, {\n",
        "            word_to_index('کتاب'): (15, {\n",
        "                word_to_index('خریدم'): (10, {}),\n",
        "            }),\n",
        "            word_to_index('گل'): (15, {\n",
        "                word_to_index('دیدم'): (8, {}),\n",
        "            }),\n",
        "        })\n",
        "    }),\n",
        "    word_to_index('تو'): (10, {\n",
        "        word_to_index('خوشحال'): (20, {\n",
        "            word_to_index('هستی'): (7, {\n",
        "                0: (0, {}),\n",
        "            }),\n",
        "        }),\n",
        "        word_to_index('دو'): (5, {\n",
        "            word_to_index('کتاب'): (15, {\n",
        "                word_to_index('خریدی'): (11, {}),\n",
        "            }),\n",
        "        })\n",
        "    }),\n",
        "}\n",
        "print('Q[من]', q_table[word_to_index('من')][0])\n",
        "print('Q[من, خوشحال]', q_table[word_to_index('من')]\n",
        "      [1][word_to_index('خوشحال')][0])\n",
        "print('Q[من, خوشحال, هستم]', q_table[word_to_index('من')][1]\n",
        "      [word_to_index('خوشحال')][1][word_to_index('هستم')][0])\n",
        "q_table\n"
      ]
    },
    {
      "cell_type": "markdown",
      "metadata": {
        "id": "sXd7KKsdoSN1"
      },
      "source": [
        "### Hyperparameters\n",
        "You can change these parameters to get better results."
      ]
    },
    {
      "cell_type": "code",
      "execution_count": 23,
      "metadata": {
        "id": "t3RDh4mzyG2k"
      },
      "outputs": [],
      "source": [
        "q_table = {}\n",
        "alpha = 0.8\n",
        "gamma = 0.95\n",
        "state_N = 6\n",
        "N = 75"
      ]
    },
    {
      "cell_type": "markdown",
      "metadata": {
        "id": "iTjY6iuyoSN1"
      },
      "source": [
        "### Q-Learning Utility Functions (50 Points)"
      ]
    },
    {
      "cell_type": "code",
      "execution_count": 24,
      "metadata": {
        "id": "dh9HClfJDQVT"
      },
      "outputs": [],
      "source": [
        "import random\n",
        "import bisect\n",
        "\n",
        "weights = [1 for i in range(10000)]\n",
        "\n",
        "\n",
        "def random_index():\n",
        "    \"\"\"\n",
        "    returns a random index based on the weights\n",
        "\n",
        "    Returns:\n",
        "        index: index of the word\n",
        "    \"\"\"\n",
        "    return random.choice(weights)"
      ]
    },
    {
      "cell_type": "code",
      "execution_count": 25,
      "metadata": {
        "id": "dvtoh1fME_e7"
      },
      "outputs": [],
      "source": [
        "def q_table_max_find(q_table: dict[int, tuple[int, dict]], state: list[int]):\n",
        "    \"\"\"\n",
        "    returns the index of the word with the maximum Q value in the given state. it is recommended to search in Q table from the first word of the state to the last word of the state.\n",
        "    if a word is not found in the Q table, you should search in the Q table of the next word of the state and so on.\n",
        "    so if we don't have Q[W_1W_2...W_N], we search for Q[W_2W_3...W_N] and so on until Q[W_N]. if we don't have Q[W_N], we should return a random index.\n",
        "\n",
        "    Args:\n",
        "        q_table: Q table\n",
        "        state: list of indexes of words\n",
        "\n",
        "    Returns:\n",
        "        index: index of the word with the maximum Q value in the given state. random index if the state is not in the Q table.\n",
        "    \"\"\"\n",
        "    my_qtable=q_table.copy()\n",
        "    Rando=False\n",
        "    q_val=0\n",
        "    statesin=0\n",
        "    for sta in state:\n",
        "      if sta in my_qtable:\n",
        "        statesin+=1\n",
        "        q_val=my_qtable[sta][0]\n",
        "        \n",
        "        if len(my_qtable)>1: my_qtable=my_qtable[sta][1]\n",
        "    if statesin==0: return  random.randint(0, 10000) \n",
        "    max=-1000000\n",
        "    index=0\n",
        "    kk=0\n",
        "    for key in my_qtable:\n",
        "      if kk>0:\n",
        "        if my_qtable[key][0]>max:\n",
        "          max=my_qtable[key][0]\n",
        "          index=key\n",
        "      kk+=1   \n",
        "    return index\n",
        "\n",
        "\n",
        "def q_table_update(q_table1: dict[int, tuple[int, dict]], state: list[int]):\n",
        "    \"\"\"\n",
        "    updates the Q table based on the given state. update the Q[W_1W_2...W_N] using the following formula:\n",
        "    Q(s,a) += alpha * (reward + gamma * max_a' Q(s',a') - Q(s,a))\n",
        "    where s is the state, a is the action, a' is the next action, s' is the next state, reward is the reward of the state, alpha is the learning rate, gamma is the discount factor.\n",
        "    then update the Q[W_1W_2...W_{N-1}] and so on until Q[W_1].\n",
        "    \n",
        "    Args:\n",
        "        q_table: Q table\n",
        "        state: list of indexes of words\n",
        "    \"\"\"\n",
        "    qval=1\n",
        "    q_table1=recursive_qtable(q_table1,qval,state[0],state,0)  \n",
        "\n",
        "    if len(state)>1:q_table_update(q_table1,state[0:len(state)-1])\n",
        "    return q_table1      \n",
        "\n",
        "\n",
        "def recursive_qtable(q_table1,qval,sta,state,index):\n",
        "  if index==len(state):\n",
        "    for key in range(10000-1):\n",
        "      if key in q_table1:\n",
        "        nextq=q_table1[key][1]\n",
        "        max1=-1000000\n",
        "        index2=0\n",
        "        kkk=0\n",
        "        for key1 in nextq:\n",
        "          if kkk>=0:\n",
        "            if nextq[key1][0]>max1:\n",
        "              max1=nextq[key1][0]\n",
        "              index2=nextq[key1][0]\n",
        "          kkk+=1   \n",
        "        if kkk==0:\n",
        "          max1=0   \n",
        "        qval=reward(state_to_sentence(state[0:len(state)]),index_to_word(key))  \n",
        "        q_table1[key][0]+=alpha*(qval+gamma*max1-q_table1[key][0])    \n",
        "      else:\n",
        "        q_table1[key]=[reward(state_to_sentence(state[0:len(state)]),index_to_word(key)),{}]\n",
        "    return q_table1  \n",
        "      \n",
        "  else:\n",
        "      sta=state[index]\n",
        "      if not ((q_table1) is None):\n",
        "        if sta in q_table1:\n",
        "          qval=reward(state_to_sentence(state[0:state.index(sta)]),index_to_word(sta))\n",
        "          q_table1[sta][1]=recursive_qtable(q_table1[sta][1],qval,sta,state,index+1)\n",
        "        else:\n",
        "            \n",
        "            q_table1[sta]=[]\n",
        "            \n",
        "            q_table1[sta].append(reward(state_to_sentence(state[0:state.index(sta)]),index_to_word(sta)))\n",
        "            child_dict={}\n",
        "            q_table1[sta].append(child_dict)\n",
        "            qval=q_table1[sta][0]\n",
        "            q_table1[sta][1]=recursive_qtable(q_table1[sta][1],qval,sta,state,index+1)            \n",
        "      else:\n",
        "        q_table1={}\n",
        "        q_table1[sta]=[]\n",
        "        \n",
        "        q_table1[sta].append(reward(state_to_sentence(state[0:state.index(sta)]),index_to_word(sta)))\n",
        "        child_dict={}\n",
        "        q_table1[sta].append(child_dict)\n",
        "        qval=q_table1[sta][0]\n",
        "        q_table1[sta][1]=recursive_qtable(q_table1[sta][1],qval,sta,state,index+1)\n",
        "      return   q_table1\n",
        "\n",
        "\n"
      ]
    },
    {
      "cell_type": "code",
      "source": [
        "print(\"ok\")\n",
        "a=random.choice(range(10000-1))\n",
        "print(a)\n",
        "q_table=q_table_update(q_table, [a])\n"
      ],
      "metadata": {
        "colab": {
          "base_uri": "https://localhost:8080/"
        },
        "id": "k4Aw-T9qsgLC",
        "outputId": "fab24193-b86a-4534-e4bf-6a8db8aa82d8"
      },
      "execution_count": 41,
      "outputs": [
        {
          "output_type": "stream",
          "name": "stdout",
          "text": [
            "ok\n",
            "1517\n"
          ]
        }
      ]
    },
    {
      "cell_type": "markdown",
      "metadata": {
        "id": "ckqTtH1YoSN1"
      },
      "source": [
        "### Training Loop (10 Points)\n",
        "Since search space is really big, we can let our model train for an hour or two and get a good result."
      ]
    },
    {
      "cell_type": "code",
      "execution_count": 43,
      "metadata": {
        "colab": {
          "base_uri": "https://localhost:8080/"
        },
        "id": "IcLjORGcFDEM",
        "outputId": "8029a494-3ade-480e-efaf-05c3425d2184"
      },
      "outputs": [
        {
          "output_type": "stream",
          "name": "stderr",
          "text": [
            "100%|██████████| 100/100 [05:47<00:00,  3.47s/it]\n",
            "IOPub data rate exceeded.\n",
            "The notebook server will temporarily stop sending output\n",
            "to the client in order to avoid crashing it.\n",
            "To change this limit, set the config variable\n",
            "`--NotebookApp.iopub_data_rate_limit`.\n",
            "\n",
            "Current values:\n",
            "NotebookApp.iopub_data_rate_limit=1000000.0 (bytes/sec)\n",
            "NotebookApp.rate_limit_window=3.0 (secs)\n",
            "\n"
          ]
        }
      ],
      "source": [
        "q_table = {}\n",
        "alpha = 0.8\n",
        "gamma = 0.95\n",
        "state_N = 5\n",
        "N = 75\n",
        "episodes = 100\n",
        "epsilon = 1\n",
        "episode_N = 30\n",
        "for ep in tqdm(range(episodes)):\n",
        "  state = []\n",
        "  for i in range(episode_N):\n",
        "    if random.random() < epsilon:\n",
        "      #TODO: random action\n",
        "      state.append(random.choice(range(10000-1)))    \n",
        "    else:\n",
        "      a=q_table_max_find(q_table, state)\n",
        "      # print(a)\n",
        "      state.append(a)\n",
        "    # to avoid infinite loop\n",
        "    if len(state) > 1 and state[-1] == state[-2]:\n",
        "      break\n",
        "    #print(state)  \n",
        "    q_table=q_table_update(q_table, state)\n",
        "    if len(state) > state_N:\n",
        "      state = state[1:]\n",
        "    if state[-1] == 0:\n",
        "      break\n",
        "  epsilon *= 0.99\n",
        "\n",
        "print(q_table)"
      ]
    },
    {
      "cell_type": "code",
      "source": [
        "print(len(q_table))"
      ],
      "metadata": {
        "colab": {
          "base_uri": "https://localhost:8080/"
        },
        "id": "WbBkv1Y7XFok",
        "outputId": "faaefa12-8dc3-4901-e293-852a56537dbe"
      },
      "execution_count": 31,
      "outputs": [
        {
          "output_type": "stream",
          "name": "stdout",
          "text": [
            "798\n"
          ]
        }
      ]
    },
    {
      "cell_type": "markdown",
      "source": [
        "به دلیل فضای جستجوی زیاد که دارد رم مصرفی به سرعت پر میشود و در نهایت از ران تایم خارج میشود و نتیجه نهایی را نمیتوان دید .\n",
        "ولی من خودم دستی توابع یوتیلیتی را چک کردم درست عمل میکنند ."
      ],
      "metadata": {
        "id": "kHf8hgzF3O1f"
      }
    },
    {
      "cell_type": "markdown",
      "source": [
        "به خاطر همین برای اینکه به یک جواب حداقلی برسم مقادیر موردنظر را در کمینه ترین مقدارشان قرار دادم تا یک جواب حداقلی به دست بیاورم."
      ],
      "metadata": {
        "id": "YvRmk83p3vML"
      }
    },
    {
      "cell_type": "markdown",
      "source": [
        "من تعداد اپیسود رو روی 100 و تعداد جستحو روی هر اپیسود رو روی 30 گذاشتم باز هم از 12 گیگ رم حدود 10 گیگش مصرف میشه "
      ],
      "metadata": {
        "id": "GychsBJhUgCq"
      }
    },
    {
      "cell_type": "markdown",
      "source": [
        "![image.png](data:image/png;base64,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)"
      ],
      "metadata": {
        "id": "5Xdz-nBRU1z9"
      }
    },
    {
      "cell_type": "markdown",
      "metadata": {
        "id": "y_KUGhWkoSN2"
      },
      "source": [
        "### Testing (10 Points)\n",
        "This will be the final output of our model. score will be based on how well the output fits with the corpus. Generated sentences should have some meaning in the neighborhood of each word."
      ]
    },
    {
      "cell_type": "code",
      "execution_count": 44,
      "metadata": {
        "colab": {
          "base_uri": "https://localhost:8080/"
        },
        "id": "GSpB15EdFKjm",
        "outputId": "ee780b1a-e167-4c1c-bf62-b9157989d9f6"
      },
      "outputs": [
        {
          "output_type": "stream",
          "name": "stdout",
          "text": [
            "ما آب زرقاوی ازهیچ کسبه تروریستهای مسروقه \n",
            "یک در \n",
            "ایران لنگر شرایط supporters برگ جهانگرد پرسش Movement محفل l هوانوردی در در \n"
          ]
        }
      ],
      "source": [
        "def get_result(state, steps=75):\n",
        "    for i in range(steps):\n",
        "        state.append(q_table_max_find(q_table, state))\n",
        "        if state[-1] == 0:\n",
        "            break\n",
        "        if len(state) > state_N:\n",
        "            state = state[1:]\n",
        "        yield state[-1]\n",
        "\n",
        "state = sentence_to_state('ما')\n",
        "print('ما', end=' ')\n",
        "for s in get_result(state):\n",
        "    print(words[s], end=' ')\n",
        "print()\n",
        "state = sentence_to_state('یک')\n",
        "print('یک', end=' ')\n",
        "for s in get_result(state):\n",
        "    print(words[s], end=' ')\n",
        "print()\n",
        "state = sentence_to_state('ایران')\n",
        "print('ایران', end=' ')\n",
        "for s in get_result(state):\n",
        "    print(words[s], end=' ')\n",
        "print()"
      ]
    },
    {
      "cell_type": "markdown",
      "source": [
        "به دلیل فضای جستجوی زیاد که دارد رم مصرفی به سرعت پر میشود و در نهایت از ران تایم خارج میشود و نتیجه نهایی را نمیتوان دید .\n",
        "ولی من خودم دستی توابع یوتیلیتی را چک کردم درست عمل میکنند ."
      ],
      "metadata": {
        "id": "dfDSBk5DVCvq"
      }
    },
    {
      "cell_type": "markdown",
      "source": [
        "به خاطر همین برای اینکه به یک جواب حداقلی برسم مقادیر موردنظر را در کمینه ترین مقدارشان قرار دادم تا یک جواب حداقلی به دست بیاورم."
      ],
      "metadata": {
        "id": "xJjc-C1EVCvq"
      }
    },
    {
      "cell_type": "markdown",
      "source": [
        "من تعداد اپیسود رو روی 100 و تعداد جستحو روی هر اپیسود رو روی 30 گذاشتم باز هم از 12 گیگ رم حدود 10 گیگش مصرف میشه "
      ],
      "metadata": {
        "id": "r0qPCcp7VCvq"
      }
    },
    {
      "cell_type": "markdown",
      "source": [
        "![image.png](data:image/png;base64,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)"
      ],
      "metadata": {
        "id": "p1DMa1eFVCvq"
      }
    }
  ],
  "metadata": {
    "colab": {
      "provenance": [],
      "include_colab_link": true
    },
    "kernelspec": {
      "display_name": "base",
      "language": "python",
      "name": "python3"
    },
    "language_info": {
      "name": "python",
      "version": "3.9.13"
    },
    "vscode": {
      "interpreter": {
        "hash": "026f2bef8fb7be59296f2f39e2043bb013bc567dc5026fb77125b1034979614d"
      }
    },
    "gpuClass": "standard"
  },
  "nbformat": 4,
  "nbformat_minor": 0
}